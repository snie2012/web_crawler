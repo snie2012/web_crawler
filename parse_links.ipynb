{
 "cells": [
  {
   "cell_type": "code",
   "execution_count": 1,
   "metadata": {},
   "outputs": [],
   "source": [
    "from scrapy.selector import Selector"
   ]
  },
  {
   "cell_type": "code",
   "execution_count": 130,
   "metadata": {},
   "outputs": [],
   "source": [
    "def get_links(filepath):\n",
    "    with open(filepath, 'r') as f:\n",
    "        body = f.read()\n",
    "    selector = Selector(text=body)\n",
    "    css_selector = 'div.contentpile__content__wrapper__item__info__box.contentpile__content__wrapper__item__info__box--name.itemBox.nameBox'\n",
    "    return [s.css('a').attrib['href'] for s in selector.css(css_selector)]"
   ]
  },
  {
   "cell_type": "code",
   "execution_count": 144,
   "metadata": {},
   "outputs": [
    {
     "name": "stdout",
     "output_type": "stream",
     "text": [
      "/home/snie/Dropbox/pages/page_1.html\n",
      "/home/snie/Dropbox/pages/page_2.html\n",
      "/home/snie/Dropbox/pages/page_3.html\n",
      "/home/snie/Dropbox/pages/page_4.html\n",
      "/home/snie/Dropbox/pages/page_5.html\n",
      "/home/snie/Dropbox/pages/page_6.html\n",
      "/home/snie/Dropbox/pages/page_7.html\n",
      "/home/snie/Dropbox/pages/page_8.html\n",
      "/home/snie/Dropbox/pages/page_9.html\n",
      "/home/snie/Dropbox/pages/page_10.html\n",
      "/home/snie/Dropbox/pages/page_11.html\n",
      "/home/snie/Dropbox/pages/page_12.html\n"
     ]
    }
   ],
   "source": [
    "all_links = {}\n",
    "for i in range(1, 13):\n",
    "    filepath = '/home/snie/Dropbox/pages/page_{}.html'.format(i)\n",
    "    print(filepath)\n",
    "    all_links[i] = get_links(filepath=filepath)"
   ]
  },
  {
   "cell_type": "code",
   "execution_count": 145,
   "metadata": {},
   "outputs": [
    {
     "name": "stdout",
     "output_type": "stream",
     "text": [
      "1 90\n",
      "2 180\n",
      "3 264\n",
      "4 354\n",
      "5 442\n",
      "6 532\n",
      "7 622\n",
      "8 712\n",
      "9 801\n",
      "10 891\n",
      "11 981\n",
      "12 1051\n"
     ]
    }
   ],
   "source": [
    "bigSet = set()\n",
    "for key, links in all_links.items():\n",
    "    bigSet = bigSet | set(links)\n",
    "    print(key, len(bigSet))"
   ]
  },
  {
   "cell_type": "code",
   "execution_count": 146,
   "metadata": {},
   "outputs": [
    {
     "data": {
      "text/plain": [
       "1080"
      ]
     },
     "execution_count": 146,
     "metadata": {},
     "output_type": "execute_result"
    }
   ],
   "source": [
    "90 * 12"
   ]
  },
  {
   "cell_type": "code",
   "execution_count": 153,
   "metadata": {},
   "outputs": [
    {
     "data": {
      "text/plain": [
       "1051"
      ]
     },
     "execution_count": 153,
     "metadata": {},
     "output_type": "execute_result"
    }
   ],
   "source": [
    "len(bigSet)"
   ]
  },
  {
   "cell_type": "code",
   "execution_count": 54,
   "metadata": {},
   "outputs": [],
   "source": [
    "import pickle"
   ]
  },
  {
   "cell_type": "code",
   "execution_count": 154,
   "metadata": {},
   "outputs": [],
   "source": [
    "with open('job_info/job_page_links/all_links.pickle', 'wb') as f:\n",
    "    pickle.dump(bigSet, f)"
   ]
  },
  {
   "cell_type": "code",
   "execution_count": 82,
   "metadata": {},
   "outputs": [],
   "source": [
    "with open('job_info/job_page_links/page_1_links.pickle', 'rb') as f:\n",
    "    links = pickle.load(f)"
   ]
  },
  {
   "cell_type": "code",
   "execution_count": 155,
   "metadata": {},
   "outputs": [],
   "source": [
    "with open('job_info/job_page_links/all_links.pickle', 'rb') as f:\n",
    "    urls = pickle.load(f)"
   ]
  },
  {
   "cell_type": "code",
   "execution_count": 156,
   "metadata": {},
   "outputs": [
    {
     "data": {
      "text/plain": [
       "1051"
      ]
     },
     "execution_count": 156,
     "metadata": {},
     "output_type": "execute_result"
    }
   ],
   "source": [
    "len(urls)"
   ]
  },
  {
   "cell_type": "code",
   "execution_count": 70,
   "metadata": {},
   "outputs": [
    {
     "data": {
      "text/plain": [
       "'CC574811320J00269344005'"
      ]
     },
     "execution_count": 70,
     "metadata": {},
     "output_type": "execute_result"
    }
   ],
   "source": [
    "links[0].split('/')[-1].split('.')[0]"
   ]
  },
  {
   "cell_type": "code",
   "execution_count": 71,
   "metadata": {},
   "outputs": [
    {
     "data": {
      "text/plain": [
       "'https://jobs.zhaopin.com/CC133089425J00288276907.htm'"
      ]
     },
     "execution_count": 71,
     "metadata": {},
     "output_type": "execute_result"
    }
   ],
   "source": [
    "links[-1]"
   ]
  }
 ],
 "metadata": {
  "kernelspec": {
   "display_name": "Python 3",
   "language": "python",
   "name": "python3"
  },
  "language_info": {
   "codemirror_mode": {
    "name": "ipython",
    "version": 3
   },
   "file_extension": ".py",
   "mimetype": "text/x-python",
   "name": "python",
   "nbconvert_exporter": "python",
   "pygments_lexer": "ipython3",
   "version": "3.6.5"
  }
 },
 "nbformat": 4,
 "nbformat_minor": 2
}
